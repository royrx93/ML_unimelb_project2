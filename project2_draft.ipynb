{
 "cells": [
  {
   "cell_type": "code",
   "execution_count": 1,
   "metadata": {},
   "outputs": [],
   "source": [
    "import pandas as pd\n",
    "import numpy as np\n",
    "import time\n",
    "import math\n",
    "\n",
    "import matplotlib.pyplot as plt\n",
    "\n",
    "\n",
    "from collections import defaultdict\n",
    "from sklearn import svm, datasets\n",
    "from sklearn.tree import DecisionTreeClassifier\n",
    "from sklearn.ensemble import ExtraTreesClassifier\n",
    "from sklearn.dummy import DummyClassifier\n",
    "from sklearn.neighbors import KNeighborsClassifier\n",
    "from sklearn.linear_model import LogisticRegression\n",
    "from sklearn.naive_bayes import GaussianNB, MultinomialNB, BernoulliNB\n",
    "from sklearn.model_selection import cross_val_score,train_test_split\n",
    "from sklearn.feature_selection import mutual_info_classif\n",
    "from sklearn.feature_selection import SelectKBest, chi2\n",
    "from sklearn.metrics import accuracy_score, precision_recall_fscore_support\n",
    "from sklearn.metrics import classification_report\n",
    "from sklearn.model_selection import validation_curve\n",
    "\n",
    "from sklearn.ensemble import BaggingClassifier\n",
    "from sklearn.ensemble import RandomForestClassifier\n",
    "from sklearn.ensemble import AdaBoostClassifier "
   ]
  },
  {
   "cell_type": "code",
   "execution_count": 2,
   "metadata": {},
   "outputs": [],
   "source": [
    "dev10 = pd.read_csv('./2019S1-proj2-datah_dos/dev-top100.csv')\n",
    "#dev50 = pd.read_csv('./2019S1-proj2-datah_dos/dev-top50.csv')\n",
    "#dev100 = pd.read_csv('./2019S1-proj2-datah_dos/dev-top100.csv')\n",
    "\n",
    "train10 = pd.read_csv('./2019S1-proj2-datah_dos/train-top100.csv')\n",
    "#train50 = pd.read_csv('./2019S1-proj2-datah_dos/train-top50.csv')\n",
    "#train100 = pd.read_csv('./2019S1-proj2-datah_dos/train-top100.csv')\n",
    "\n",
    "test10 = pd.read_csv('./2019S1-proj2-datah_dos/test-top100.csv')\n",
    "#test50 = pd.read_csv('./2019S1-proj2-datah_dos/test-top50.csv')\n",
    "#test100 = pd.read_csv('./2019S1-proj2-datah_dos/test-top100.csv')"
   ]
  },
  {
   "cell_type": "code",
   "execution_count": 3,
   "metadata": {},
   "outputs": [],
   "source": [
    "def main(train10,dev10,test10):\n",
    "    x_test0=dev10.iloc[:,1:-1]\n",
    "    y_test0=dev10.iloc[:,-1]\n",
    "    x_train0=train10.iloc[:,1:-1]\n",
    "    y_train0=train10.iloc[:,-1]\n",
    "\n",
    "    #print(\"NO PREPROCESS:------------------------------------------------------------------\")\n",
    "    #stacking_pre(x_train0,y_train0,x_test0,y_test0)\n",
    "    #run(x_train0,y_train0,x_test0,y_test0)\n",
    "    \n",
    "    #reduce randomness\n",
    "    print(\"80% randomness\")\n",
    "    print(\"Trainset\")\n",
    "    ntrain= preprocess1(train10)\n",
    "    y_train= ntrain.iloc[:,-1]\n",
    "    x_train= ntrain.iloc[:,1:-1]\n",
    "    \n",
    "    \n",
    "    print(\"Preprocess: only reducing randomness in trainset-----------------------------------\")\n",
    "    stacking_pre(x_train,y_train,x_test0,y_test0)\n",
    "    run(x_train,y_train,x_test0,y_test0)\n",
    "    \n",
    "    print(\"Devset\")\n",
    "    ndev = preprocess1(dev10)\n",
    "    y_test= ndev.iloc[:,-1]\n",
    "    x_test= ndev.iloc[:,1:-1]\n",
    "    print(\"Preprocess: reducing randomness in trainset and devset-----------------------------\")\n",
    "    stacking_pre(x_train,y_train,x_test,y_test)\n",
    "    run(x_train,y_train,x_test,y_test)\n",
    "\n",
    "    '''\n",
    "    #mutual information feature selection\n",
    "    mi_col_list=preprocess_mi(x_train,y_train)\n",
    "    mi_dtrain = x_train[mi_col_list]\n",
    "    mi_dtest = x_test[mi_col_list]\n",
    "    print(\"Preprocess: mutual information feature selection----------------------------------\")\n",
    "    run(mi_dtrain,y_train,mi_dtest,y_test)\n",
    "    \n",
    "    #variance(ssssss) feature selection\n",
    "    vtrain,new_columns=preprocess4(ntrain)\n",
    "    vdev = ndev[new_columns]\n",
    "    y_train= vtrain.iloc[:,-1]\n",
    "    x_train= vtrain.iloc[:,1:-1]\n",
    "    y_test= vdev.iloc[:,-1]\n",
    "    x_test= vdev.iloc[:,1:-1]\n",
    "    print('Preprocess: variance(ssssss) feature selection------------------------------------')\n",
    "    run(x_train,y_train,x_test,y_test)\n",
    "    \n",
    "    #relate conditional probability and WLH\n",
    "    dlist = pre_wlh(ntrain)\n",
    "    dftest = ndev.drop(dlist,axis=1)\n",
    "    df = ntrain.drop(dlist,axis=1)\n",
    "    x_train=df.iloc[:,:-1]\n",
    "    y_train=df.iloc[:,-1]\n",
    "    x_test=dftest.iloc[:,:-1]\n",
    "    y_test=dftest.iloc[:,-1]\n",
    "    print('Preprocess: relate conditional probability and WLH---------------------------------')\n",
    "    run(x_train,y_train,x_test,y_test)\n",
    "    '''\n",
    "    return 0\n",
    "    \n",
    "    \n",
    "    "
   ]
  },
  {
   "cell_type": "code",
   "execution_count": 4,
   "metadata": {},
   "outputs": [],
   "source": [
    "def run(x_train,y_train,x_test,y_test):\n",
    "    \n",
    "    #nb(x_train,y_train,x_test,y_test)\n",
    "    #cross_vali(x_train,y_train,x_test,y_test)\n",
    "    #decision_tree(x_train, y_train, x_test, y_test)\n",
    "    \n",
    "    #bagging(x_train,y_train,x_test,y_test)\n",
    "    adaboosting(x_train, y_train, x_test, y_test)\n",
    "    stacking(x_train,y_train,x_test,y_test)\n",
    "    \n",
    "    return 0\n",
    "    "
   ]
  },
  {
   "cell_type": "markdown",
   "metadata": {},
   "source": [
    "# preprocessing"
   ]
  },
  {
   "cell_type": "code",
   "execution_count": 5,
   "metadata": {},
   "outputs": [],
   "source": [
    "def preprocess1(df):\n",
    "    df1  =  df.copy()\n",
    "    df1['Row_sum'] = df1[df1.columns[1:-1]].apply(lambda x:x.sum(),axis=1)\n",
    "    \n",
    "    df2 = df1[~df1['Row_sum'].isin([0])] #some attributes' values are not 0\n",
    "    df3 = df1[df1['Row_sum'].isin([0])] # all attributes' values are 0\n",
    "    \n",
    "    df4=pd.DataFrame() # keep 0.01% of all-zero instances in each classes\n",
    "    for  name, group in df3.groupby(\"Location\"):\n",
    "    \n",
    "        X_train, X_test = train_test_split(group, test_size=0.5, random_state=42)\n",
    "        df4= pd.concat([df4,X_test],ignore_index=True) \n",
    "    ntrain = (pd.concat([df2,df4],ignore_index=True)).drop(['Row_sum'],axis=1)\n",
    "    print(\"Proportion of randomness in dataset:\", df3.shape[0]/df1.shape[0])\n",
    "    \n",
    "    return ntrain\n",
    "    # this part will return a new dataframe which contains all the usable instances and several random instances \n",
    "\n",
    "    \n"
   ]
  },
  {
   "cell_type": "raw",
   "metadata": {},
   "source": [
    "def preprocess_mi(x_train,y_train):\n",
    "    mi = dict(zip(x_train.columns,mutual_info_classif(x_train, y_train, discrete_features=True)))\n",
    "\n",
    "    mi_col_list = list(x_train.columns)\n",
    "    for i in mi.keys():\n",
    "        if mi[i] <0.001:\n",
    "\n",
    "            mi_col_list.remove(i)\n",
    "    #mi_dtrain = x_train[mi_col_list]\n",
    "    #mi_dtest = x_test[mi_col_list]\n",
    "    return  mi_col_list\n",
    "\n",
    "    "
   ]
  },
  {
   "cell_type": "raw",
   "metadata": {},
   "source": [
    "#did not help improve accuracy\n",
    "def preprocess2(df):\n",
    "    pivot = len(df)/2000\n",
    "    columns_sum = df[df.columns[1:-2]].apply(lambda x:x.sum(),axis=0)\n",
    "    ndf = df.copy()\n",
    "    columns_drop = []\n",
    "    #print(columns_sum)\n",
    "    for i in df.columns[1:-2]:\n",
    "        if columns_sum[i] < pivot:\n",
    "            columns_drop.append(i)\n",
    "            ndf=ndf.drop([i],axis=1)\n",
    "        #print(\"name:\", i,\"freq:\",columns_sum[i])\n",
    "    return ndf,columns_drop \n",
    "\n",
    "ndf,columns_drops = preprocess2(ntrain)"
   ]
  },
  {
   "cell_type": "raw",
   "metadata": {},
   "source": [
    "from collections import defaultdict\n",
    "def preprocess3(df):\n",
    "    df1 = df.copy()\n",
    "    columns_list = df1.columns[1:-1]\n",
    "    columns_prob = {}\n",
    "    columns_mean = defaultdict(float)\n",
    "    columns_var = defaultdict(float)\n",
    "    \n",
    "    \n",
    "    for name,group in df1.groupby('Location'):\n",
    "        columns_prob[name]=group[columns_list].apply(lambda x:x.sum()*100/len(group),axis = 0)\n",
    "    for i in set(df['Location']):\n",
    "        for attri in columns_prob[i].index:\n",
    "            columns_mean[attri] +=columns_prob[i][attri]/4\n",
    "    for i in set(df['Location']):\n",
    "        for attri in columns_prob[i].index:\n",
    "            columns_var[attri] += math.pow((columns_prob[i][attri]-columns_mean[attri]),2)\n",
    "    \n",
    "    sort_var = sorted(list(columns_var.items()),key = lambda x:x[1])\n",
    "    delate_list = []\n",
    "    #zcount=0\n",
    "    for i in sort_var:\n",
    "        if i[1] < 0.05:\n",
    "            #zcount+=1\n",
    "            delate_list.append(i[0])\n",
    "    #new_columns = list(set(ntrain)^set(delate_list))\n",
    "    new_columns = []\n",
    "    for i in list(df.columns):\n",
    "        if i not in delate_list:\n",
    "            new_columns.append(i)\n",
    "    #print(zcount)\n",
    "    #for i in sort_var:\n",
    "        #print(i)\n",
    "\n",
    "    #print(columns_prob)\n",
    "    return df1[new_columns],new_columns\n"
   ]
  },
  {
   "cell_type": "raw",
   "metadata": {},
   "source": [
    "#find the variance of each attributes and drop the attributes with low variance\n",
    "from collections import defaultdict\n",
    "def preprocess4(df):\n",
    "    df1 = df.copy()\n",
    "    columns_list = df1.columns[1:-1]\n",
    "    columns_prob = {}\n",
    "    columns_freq = {}\n",
    "\n",
    "    columns_mean = defaultdict(float)\n",
    "    columns_var = defaultdict(float)\n",
    "    \n",
    "    for i in set(df['Location']):\n",
    "        columns_prob[i] = defaultdict(float)\n",
    "    \n",
    "    for name,group in df1.groupby('Location'):\n",
    "        columns_freq[name]=group[columns_list].apply(lambda x:x.sum(),axis = 0)\n",
    "        \n",
    "    freq= df1[columns_list].apply(lambda x:x.sum(),axis = 0)\n",
    "    \n",
    "    for name in set(df['Location']):\n",
    "        for attri in columns_list:\n",
    "            columns_prob[name][attri] = columns_freq[name][attri]/freq[attri]\n",
    "            \n",
    "    #print(columns_prob)\n",
    "    for name1 in set(df['Location']):\n",
    "        for attri1 in columns_list:\n",
    "            columns_mean[attri1] +=columns_prob[name1][attri1]/4\n",
    "    for name2 in set(df['Location']):\n",
    "        for attri2 in columns_list:\n",
    "            columns_var[attri2] += math.pow((columns_prob[name2][attri2]-columns_mean[attri2]),2)\n",
    "    \n",
    "    sort_var = sorted(list(columns_var.items()),key = lambda x:x[1])\n",
    "    delate_list = []\n",
    "    #zcount=0\n",
    "    for i in sort_var:\n",
    "        if i[1] < 0.05:\n",
    "            #zcount+=1\n",
    "            delate_list.append(i[0])\n",
    "    #new_columns = list(set(ntrain)^set(delate_list))\n",
    "    new_columns = []\n",
    "    for i in list(df.columns):\n",
    "        if i not in delate_list:\n",
    "            new_columns.append(i)\n",
    "        \n",
    "    \n",
    "    return df1[new_columns],new_columns\n",
    "    "
   ]
  },
  {
   "cell_type": "raw",
   "metadata": {},
   "source": [
    "def pre_wlh(df):\n",
    "    df1 = df.copy()\n",
    "    columns_list = df1.columns[1:-1]\n",
    "    columns_prob = {}\n",
    "    columns_freq = {}\n",
    "\n",
    "    columns_mean = defaultdict(float)\n",
    "    columns_var = defaultdict(float)\n",
    "             \n",
    "    for i in set(df['Location']):\n",
    "        columns_prob[i] = defaultdict(float)\n",
    "    \n",
    "    for name,group in df1.groupby('Location'):\n",
    "        columns_freq[name]=group[columns_list].apply(lambda x:x.sum(),axis = 0)\n",
    "        \n",
    "    freq= df1[columns_list].apply(lambda x:x.sum(),axis = 0)\n",
    "    \n",
    "    for name in set(df['Location']):\n",
    "        for attri in columns_list:\n",
    "            columns_prob[name][attri] = columns_freq[name][attri]/freq[attri]\n",
    "    #trans_prob ={}\n",
    "    #for i in columns_list:\n",
    "     #   trans_prob[i]={}\n",
    "    #for name in set(df['Location']):\n",
    "     #   for attri in columns_list:\n",
    "      #      trans_prob[attri][name]=columns_prob[name][attri]\n",
    "            \n",
    "    df2 = pd.DataFrame(columns_prob)\n",
    "\n",
    "    df3= df2[((df2['Brisbane']>0) & (df2['Melbourne']>0) & (df2['Perth']>0)&(df2['Sydney']>0))]\n",
    "    df4=df2[~((df2['Brisbane']>0) & (df2['Melbourne']>0) & (df2['Perth']>0)&(df2['Sydney']>0))]\n",
    "    df5=df3[((df3['Brisbane']>0.7) | (df3['Melbourne']>0.7) | (df3['Perth']>0.7) |(df3['Sydney']>0.7))]\n",
    "    df6=df3[~((df3['Brisbane']>0.7) | (df3['Melbourne']>0.7) | (df3['Perth']>0.7) |(df3['Sydney']>0.7))]\n",
    "    \n",
    "    var=df6.apply(lambda x:((x-0.25)*(x-0.25)).sum(),axis = 1)\n",
    "    \n",
    "    sort_var = sorted(list(var.items()),key = lambda x:x[1])\n",
    "    dlist=[]\n",
    "    for i in sort_var:\n",
    "        if i[1]<0.1:\n",
    "            dlist.append(i[0])\n",
    "    df7=df2.drop(dlist,axis=0)\n",
    "\n",
    "    df7_var = df7.apply(lambda x:((x-0.25)*(x-0.25)).sum(),axis = 1)\n",
    "    for i in df7_var:\n",
    "        if i<0.1:\n",
    "            print(i)\n",
    "    \n",
    "\n",
    "    return dlist\n"
   ]
  },
  {
   "cell_type": "markdown",
   "metadata": {},
   "source": [
    "# Naive Bayes\n"
   ]
  },
  {
   "cell_type": "code",
   "execution_count": 6,
   "metadata": {},
   "outputs": [],
   "source": [
    "def nb(x_train,y_train,x_test,y_test):\n",
    "    gnb = GaussianNB()\n",
    "    mnb = MultinomialNB()\n",
    "    bnb = BernoulliNB()\n",
    "    \n",
    "    print(\"-----Naive Bayes-----\")\n",
    "    #without softing\n",
    "    print(\"without softing:\")\n",
    "    gnb.fit(x_train, y_train)\n",
    "    \n",
    "    mnb.fit(x_train, y_train)\n",
    "    bnb.fit(x_train, y_train)\n",
    "    \n",
    "    #print(\"GNB train score: \", gnb.score(x_train,y_train))\n",
    "    #print(\"MNB train score: \", mnb.score(x_train,y_train))\n",
    "    #print(\"BNB train score: \", bnb.score(x_train,y_train))\n",
    "    \n",
    "    print(\"GNB test score: %f \" %gnb.score(x_test, y_test))\n",
    "    print(\"MNB test score: %f \" %mnb.score(x_test, y_test))\n",
    "    print(\"BNB test score: %f \" %bnb.score(x_test, y_test))\n",
    "    \n",
    "    \n",
    "    #with soft adding-k\n",
    "    print(\"with softing adding_k:\")\n",
    "    mnb_soft = MultinomialNB(alpha=1.0e-10)\n",
    "    bnb_soft = BernoulliNB(alpha=1.0e-10)\n",
    "\n",
    "    mnb_soft.fit(x_train, y_train)\n",
    "    bnb_soft.fit(x_train, y_train)\n",
    "    \n",
    "    #print(\"MNB train score %f \" %mnb_soft.score(x_train,y_train))\n",
    "    #print(\"BNB train score %f \" %bnb_soft.score(x_train,y_train))\n",
    "    \n",
    "    print(\"MNB test score %f \" %mnb_soft.score(x_test, y_test))\n",
    "    print(\"BNB test  score %f \" %bnb_soft.score(x_test, y_test))\n",
    "    \n",
    "    #print(\"\\n\")\n",
    "    \n",
    "    return 0 \n",
    "    "
   ]
  },
  {
   "cell_type": "markdown",
   "metadata": {},
   "source": [
    "#  cross validation"
   ]
  },
  {
   "cell_type": "code",
   "execution_count": 7,
   "metadata": {},
   "outputs": [],
   "source": [
    "def cross_vali(x_train,y_train,x_test,y_test):\n",
    "    X = x_train\n",
    "    y = y_train\n",
    "\n",
    "    models = [DummyClassifier(strategy='most_frequent'),\n",
    "              GaussianNB(),\n",
    "              MultinomialNB(),\n",
    "              svm.LinearSVC(),\n",
    "              LogisticRegression()]\n",
    "    titles = ['Zero-R',\n",
    "              'GNB',\n",
    "              'MNB',\n",
    "              'LinearSVC',\n",
    "              'Logistic Regression']\n",
    "\n",
    "    print(\"-----Cross Validation with 0-R, NB, SVM, LogisticRE-----\")\n",
    "    for title, model in zip(titles, models):\n",
    "        scores = cross_val_score(model, X, y, cv=10, n_jobs=-1)\n",
    "        print(title,'cross-vali')\n",
    "        print(\"cv accuracy: \",  np.mean(scores))\n",
    "        print(\"cv stddev: \", np.std(scores))       \n",
    "    \n",
    "    return 0 "
   ]
  },
  {
   "cell_type": "code",
   "execution_count": 8,
   "metadata": {},
   "outputs": [],
   "source": [
    "#KNeighborsClassifier(int(math.sqrt(train10.size)), \"distance\", n_jobs=-1),it  takes too long time and somtimes makes memory error"
   ]
  },
  {
   "cell_type": "markdown",
   "metadata": {},
   "source": [
    "# decision tree"
   ]
  },
  {
   "cell_type": "code",
   "execution_count": 9,
   "metadata": {},
   "outputs": [],
   "source": [
    "def decision_tree(x_train, y_train, x_test, y_test):\n",
    "    dt = DecisionTreeClassifier(max_depth=None)\n",
    "    start = time.time()\n",
    "    dt.fit(x_train, y_train)\n",
    "    end = time.time()\n",
    "    \n",
    "    print(\"------DecisionTree-----\")\n",
    "    print(\"cost time: \", end-start)\n",
    "    #print(\"DT(without max depth) train score %f \" %dt.score(x_train, y_train))\n",
    "    print(\"DT(without max depth) test score %f \" %dt.score(x_test, y_test))\n",
    "    \n",
    "    X= x_train\n",
    "    y= y_train\n",
    "\n",
    "    #try to change C to 1000 or 0.001\n",
    "    #C = 1.0  # SVM regularization parameter\n",
    "    models = [DecisionTreeClassifier(max_depth=1),\n",
    "              #KNeighborsClassifier(n_neighbors=1),\n",
    "              #KNeighborsClassifier(n_neighbors=4),\n",
    "              DecisionTreeClassifier(max_depth=int(math.sqrt(len(x_train.columns)))),\n",
    "              DecisionTreeClassifier(max_depth=None)]\n",
    "              #svm.LinearSVC(C=C),\n",
    "              #svm.SVC(kernel='rbf', gamma=0.7, C=C),\n",
    "              #svm.SVC(kernel='poly', degree=3, C=C)]\n",
    "    titles = ['1-R',\n",
    "              #'1-Nearest Neighbour',\n",
    "              #'4-Nearest Neighbour',\n",
    "              'Decision Tree with max_depth',\n",
    "              'Decision Tree']\n",
    "              #'LinearSVC',\n",
    "              #'SVM with a cubic kernel',\n",
    "              #'SVM with an RBF kernel']\n",
    "\n",
    "    title_training_acc = {}\n",
    "    for title, model in zip(titles, models):\n",
    "        model.fit(X, y)\n",
    "        title_training_acc[title] = model.score(x_train, y_train)\n",
    "\n",
    "    title_crossvalidation_acc = {}\n",
    "    for title, model in zip(titles, models):\n",
    "        title_crossvalidation_acc[title] = np.mean(cross_val_score(model, X, y, cv=10))\n",
    "\n",
    "    for title in titles:\n",
    "        print(title, ': Training Acc', title_training_acc[title], '; X-Val Acc', title_crossvalidation_acc[title])\n",
    "\n",
    "    return 0\n",
    "\n",
    "    \n",
    "    "
   ]
  },
  {
   "cell_type": "markdown",
   "metadata": {},
   "source": [
    "chi-squre feature selection"
   ]
  },
  {
   "cell_type": "raw",
   "metadata": {},
   "source": [
    "#from sklearn.feature_selection import SelectKBest, chi2\n",
    "x2 = SelectKBest(chi2, k=100)\n",
    "x_train_x2 = x2.fit_transform(x_train,y_train)\n",
    "x_test_x2 = x2.transform(x_test)\n",
    "print(x_train_x2.shape)\n",
    "print(x_test_x2.shape)\n",
    "\n",
    "mnb.fit(x_train_x2, y_train)\n",
    "acc = mnb.score(x_test_x2, y_test)\n",
    "print(\"MNB score %f \" %acc)\n",
    "mnb_accs.append(acc)\n",
    "    \n",
    "bnb.fit(x_train_x2, y_train)\n",
    "acc = bnb.score(x_test_x2, y_test)\n",
    "print(\"BNB score %f \" %acc)\n",
    "bnb_accs.append(acc)\n",
    "\n",
    "dt.fit(x_train_x2, y_train)    \n",
    "acc = dt.score(x_test_x2, y_test)\n",
    "print(\"DT score (ordinal) %f \" %acc)\n",
    "dt_accs.append(acc)"
   ]
  },
  {
   "cell_type": "code",
   "execution_count": null,
   "metadata": {},
   "outputs": [],
   "source": []
  },
  {
   "cell_type": "markdown",
   "metadata": {},
   "source": [
    "# Bagging ensemble with RandomForest"
   ]
  },
  {
   "cell_type": "code",
   "execution_count": 10,
   "metadata": {},
   "outputs": [],
   "source": [
    "def bagging(x_train,y_train,x_test,y_test):\n",
    "    rfc = RandomForestClassifier(n_estimators=int(math.sqrt(x_train.shape[0])),max_depth=None)\n",
    "    rfc.fit(x_train, y_train)\n",
    "    \n",
    "    print(\"-----RandomForest-----\")\n",
    "    #print(\"RandomForest train score: \",rfc.score(x_train, y_train))\n",
    "    print(\"RandomForest test score: \",rfc.score(x_test, y_test))\n",
    "\n",
    "    bagging = BaggingClassifier(rfc,max_samples= 0.5, max_features=0.5)\n",
    "    bagging.fit(x_train,y_train)\n",
    "    \n",
    "    print(\"-----Bagging-----\")\n",
    "    #print(\"Bagging trian score: \", bagging.score(x_train,y_train))\n",
    "    print(\"bagging test score: \",bagging.score(x_test, y_test))\n",
    "    \n",
    "    return 0"
   ]
  },
  {
   "cell_type": "markdown",
   "metadata": {},
   "source": [
    "# ADABoosting ensemble"
   ]
  },
  {
   "cell_type": "code",
   "execution_count": 11,
   "metadata": {},
   "outputs": [],
   "source": [
    "def adaboosting(x_train, y_train, x_test, y_test):\n",
    "    classes = sorted(list(set(y_train)))\n",
    "    #ABC = AdaBoostClassifier(n_estimators=100, random_state=0)\n",
    "    bdt_real = AdaBoostClassifier(\n",
    "        DecisionTreeClassifier(max_depth=math.sqrt(x_train.shape[0])),\n",
    "        n_estimators=600,\n",
    "        learning_rate=1)\n",
    "    \n",
    "    '''\n",
    "    bdt_discrete = AdaBoostClassifier(\n",
    "        DecisionTreeClassifier(max_depth=2),\n",
    "        n_estimators=600,\n",
    "        learning_rate=1.5)\n",
    "'''\n",
    "    #ABC.fit(x_train,y_train)\n",
    "\n",
    "    bdt_real.fit(x_train,y_train)\n",
    "    #bdt_discrete.fit(x_train,y_train)\n",
    "    \n",
    "    print(\"-----ADABoosting-----\")\n",
    "    #print(\"bdt_real train score: \", bdt_real.score(x_train,y_train))\n",
    "    print(\"ADAboosting with bdt_real test score: \", bdt_real.score(x_test,y_test))\n",
    "    #print(\"bdt_discrete train score: \", bdt_discrete.score(x_train, y_train))\n",
    "    #print(\"bdt_discrete test score: \", bdt_discrete.score(x_test, y_test))\n",
    "    #print(\"ADABoosting train score: \", ABC.score(x_train,y_train))\n",
    "    #print(\"ADABoosting test score: \", ABC.score(x_test,y_test))\n",
    "    labels = bdt_real.predict(x_test)\n",
    "    print(classification_report(y_test, labels, labels=classes))\n",
    "    \n",
    "    return 0"
   ]
  },
  {
   "cell_type": "code",
   "execution_count": 12,
   "metadata": {},
   "outputs": [],
   "source": [
    "#from xgboost import XGBClassifier\n"
   ]
  },
  {
   "cell_type": "markdown",
   "metadata": {},
   "source": [
    "# Stacking ensemble"
   ]
  },
  {
   "cell_type": "raw",
   "metadata": {},
   "source": [
    "classifiers = [MultinomialNB(alpha=1.0e-10),\n",
    "                   BernoulliNB(alpha=1.0e-10),\n",
    "                   ExtraTreesClassifier(n_jobs=-1, n_estimators=5, criterion=\"entropy\"),\n",
    "                   \n",
    "                   svm.SVC(kernel='rbf', gamma=0.7),\n",
    "                   svm.SVC(kernel='poly', degree=3),\n",
    "                   KNeighborsClassifier(n_neighbors=4)]"
   ]
  },
  {
   "cell_type": "code",
   "execution_count": 13,
   "metadata": {},
   "outputs": [
    {
     "data": {
      "text/plain": [
       "\"\\nclassifiers = [LogisticRegression(),\\n               MultinomialNB(alpha=1.0e-10),\\n               BernoulliNB(alpha=1.0e-10),\\n               DecisionTreeClassifier(max_depth=None)]\\n\\nmeta_classifier = DecisionTreeClassifier()\\nstacker = StackingClassifier(classifiers, meta_classifier)\\n\\nstacker.fit(x_train, y_train)\\nprint('stacker acc:', stacker.score(x_test, y_test))\""
      ]
     },
     "execution_count": 13,
     "metadata": {},
     "output_type": "execute_result"
    }
   ],
   "source": [
    "import numpy as np\n",
    "from sklearn.preprocessing import OneHotEncoder\n",
    "from sklearn.naive_bayes import GaussianNB, MultinomialNB, BernoulliNB\n",
    "from sklearn.model_selection import cross_val_score\n",
    "from sklearn.dummy import DummyClassifier\n",
    "from sklearn.linear_model import LogisticRegression\n",
    "from sklearn.neighbors import KNeighborsClassifier\n",
    "from sklearn.tree import DecisionTreeClassifier\n",
    "from sklearn import svm\n",
    "from sklearn.ensemble import VotingClassifier\n",
    "from sklearn.metrics import accuracy_score\n",
    "from sklearn.model_selection import train_test_split\n",
    "import time\n",
    "import time\n",
    "import numpy as np\n",
    "\n",
    "np.random.seed(1)\n",
    "\n",
    "class StackingClassifier():\n",
    "\n",
    "    def __init__(self, classifiers, metaclassifier):\n",
    "        self.classifiers = classifiers\n",
    "        self.metaclassifier = metaclassifier\n",
    "\n",
    "    def fit(self, X, y):\n",
    "        for clf in self.classifiers:\n",
    "            clf.fit(X, y)\n",
    "        X_meta = self._predict_base(X)\n",
    "        self.metaclassifier.fit(X_meta, y)\n",
    "    \n",
    "    def _predict_base(self, X):\n",
    "        yhats = []\n",
    "        for clf in self.classifiers:\n",
    "            yhat = clf.predict_proba(X)\n",
    "            yhats.append(yhat)\n",
    "        yhats = np.concatenate(yhats, axis=1)\n",
    "        #print(yhats.shape)\n",
    "        assert yhats.shape[0] == X.shape[0]\n",
    "        return yhats\n",
    "    \n",
    "    def predict(self, X):\n",
    "        X_meta = self._predict_base(X)\n",
    "        yhat = self.metaclassifier.predict(X_meta)\n",
    "        return yhat\n",
    "    def score(self, X, y):\n",
    "        yhat = self.predict(X)\n",
    "        return accuracy_score(y, yhat)\n",
    "    \n",
    "\n",
    "'''\n",
    "classifiers = [LogisticRegression(),\n",
    "               MultinomialNB(alpha=1.0e-10),\n",
    "               BernoulliNB(alpha=1.0e-10),\n",
    "               DecisionTreeClassifier(max_depth=None)]\n",
    "\n",
    "meta_classifier = DecisionTreeClassifier()\n",
    "stacker = StackingClassifier(classifiers, meta_classifier)\n",
    "\n",
    "stacker.fit(x_train, y_train)\n",
    "print('stacker acc:', stacker.score(x_test, y_test))'''"
   ]
  },
  {
   "cell_type": "code",
   "execution_count": 14,
   "metadata": {},
   "outputs": [],
   "source": [
    "def stacking(x_train,y_train,x_test,y_test):\n",
    "    classifiers = [SGDClassifier(loss='log',random_state=41, max_iter=500, tol=None, n_jobs=-1),\n",
    "                    LogisticRegression(),\n",
    "                   #MultinomialNB(alpha=1.0e-10),\n",
    "                   #BernoulliNB(alpha=1.0e-10),\n",
    "                   #RandomForestClassifier(n_estimators=50,max_depth=None,random_state=1),\n",
    "                   ExtraTreesClassifier(n_jobs=-1, n_estimators=5, criterion=\"entropy\")\n",
    "                   \n",
    "                  ]\n",
    "\n",
    "    meta_classifier = DecisionTreeClassifier(max_depth = None)\n",
    "    stacker = StackingClassifier(classifiers, meta_classifier)\n",
    "\n",
    "\n",
    "    start = time.time()\n",
    "    stacker.fit(x_train, y_train)\n",
    "    end = time.time()\n",
    "    print(\"time: \", end - start)\n",
    "    print(\"-----Stacking-----\")\n",
    "    #print('stacker train acc:', stacker.score(x_train, y_train))\n",
    "    print('stacker test acc:', stacker.score(x_test, y_test))\n",
    "    \n",
    "    return 0"
   ]
  },
  {
   "cell_type": "code",
   "execution_count": 15,
   "metadata": {},
   "outputs": [],
   "source": [
    "def stacking(x_train,y_train,x_test,y_test):\n",
    "    classifiers = [RandomForestClassifier(n_estimators=200,max_depth=None,random_state=42, n_jobs=-1),\n",
    "                   LogisticRegression(n_jobs=-1, multi_class='multinomial',solver='sag',random_state= 42),\n",
    "                   #MultinomialNB(alpha=1.0e-10),\n",
    "                   #BernoulliNB(alpha=1.0e-10),\n",
    "                   GaussianNB()\n",
    "                  ]\n",
    "\n",
    "    meta_classifier = DecisionTreeClassifier(max_depth = None)\n",
    "    stacker = StackingClassifier(classifiers, meta_classifier)\n",
    "    classes = sorted(list(set(y_train)))\n",
    "\n",
    "    start = time.time()\n",
    "    stacker.fit(x_train, y_train)\n",
    "    end = time.time()\n",
    "    \n",
    "    print(\"-----Stacking-----\")\n",
    "    #print('stacker train acc:', stacker.score(x_train, y_train))\n",
    "    \n",
    "    print('stacker test acc:', stacker.score(x_test, y_test))\n",
    "    labels = stacker.predict(x_test)\n",
    "    print(classification_report(y_test, labels,labels= classes,target_names = classes))\n",
    "    print(\"time: \", end - start)\n",
    "    '''\n",
    "    precision,recall, fbeta_score,support = precision_recall_fscore_support(y_test, labels,classes)\n",
    "    print(\"Precision: \",zip(classes,precision))\n",
    "    print(\"Recall: \", zip(classes,recall))\n",
    "    print(\"F_score: \",zip(classes,fbeta_score))\n",
    "    print(\"support: \", zip(classes,support))\n",
    "    '''\n",
    "    return 0\n",
    "    "
   ]
  },
  {
   "cell_type": "raw",
   "metadata": {},
   "source": [
    "LogisticRegression(),\n",
    "                   MultinomialNB(alpha=1.0e-10),\n",
    "                   BernoulliNB(alpha=1.0e-10),\n",
    "                   RandomForestClassifier(n_estimators=50,max_depth=None,random_state=1),\n",
    "                   \n",
    "\n",
    "print('stacker test acc:', stacker.score(x_test, y_test))\n",
    "    labels = stacker.predict(x_test)\n",
    "    precision,recall, fbeta_score,support = precision_recall_fscore_support(y_test, labels，classes)\n",
    "    print(\"Precision: \",zip(classes,precision))\n",
    "    \n",
    "    print(\"Recall: \", zip(classes,recall))\n",
    "    print(\"F_score: \",zip(classes,fbeta_score))\n",
    "    print(\"support: \", zip(classes,support))\n",
    "    "
   ]
  },
  {
   "cell_type": "code",
   "execution_count": 16,
   "metadata": {},
   "outputs": [],
   "source": [
    "\n",
    "def stacking_pre(x_train,y_train,x_test,y_test):\n",
    "    classes = sorted(list(set(y_train)))\n",
    "    classifiers = [#GaussianNB(),\n",
    "                   #MultinomialNB(alpha=1.0e-10),\n",
    "                   #BernoulliNB(alpha=1.0e-10),\n",
    "                   DecisionTreeClassifier(max_depth=1),\n",
    "                   #DecisionTreeClassifier(max_depth=None),\n",
    "                   #DecisionTreeClassifier(max_depth=int(math.sqrt(len(x_train.columns)))),\n",
    "                   #ExtraTreesClassifier(n_jobs=-1, n_estimators=5, criterion=\"entropy\"),\n",
    "                   RandomForestClassifier(n_estimators=200,max_depth=None, n_jobs=-1),\n",
    "                   \n",
    "                   LogisticRegression(n_jobs=-1, multi_class='multinomial',solver='sag',random_state= 42),\n",
    "                   svm.LinearSVC()#multi_class change to 'crammer_singer' did not help improve accuracy\n",
    "                   #svm.SVC(kernel='rbf', gamma=0.7),\n",
    "                   #svm.SVC(kernel='poly', degree=3),\n",
    "                   \n",
    "                   #KNeighborsClassifier(n_neighbors=1),\n",
    "                   #KNeighborsClassifier(n_neighbors=4),\n",
    "                   \n",
    "                   #XGBClassifier(learning_rate =0.5,n_estimators=300,max_depth=5,gamma=0,subsample=0.8,)\n",
    "                   ]\n",
    "    titles = [#\"GNB\",\"MNB\",\"BNB\", \"DT depth:1\", \"DT depth:none\",'DT depth: sqrt',\"ExtraTree\",\n",
    "             \"One_R\",\"RandomF\",\"LogisticRe\",\"SVM.LinearSVC\"]\n",
    "    \n",
    "    for title, model in zip(titles, classifiers):\n",
    "        start = time.time()\n",
    "        model.fit(x_train,y_train)\n",
    "        acc = model.score(x_test,y_test)\n",
    "        end = time.time()\n",
    "        t = end - start\n",
    "        labels = model.predict(x_test)\n",
    "        #print(\"label: \",labels)\n",
    "        print(classification_report(y_test, labels, labels=classes))\n",
    "        print(title,'test acc:',acc, 'time:', t)\n",
    "    "
   ]
  },
  {
   "cell_type": "code",
   "execution_count": null,
   "metadata": {},
   "outputs": [],
   "source": []
  },
  {
   "cell_type": "code",
   "execution_count": 18,
   "metadata": {
    "scrolled": true
   },
   "outputs": [
    {
     "name": "stdout",
     "output_type": "stream",
     "text": [
      "80% randomness\n",
      "Trainset\n",
      "Proportion of randomness in dataset: 0.7728416082968925\n",
      "Preprocess: only reducing randomness in trainset-----------------------------------\n"
     ]
    },
    {
     "name": "stderr",
     "output_type": "stream",
     "text": [
      "C:\\Users\\Roywr\\Anaconda3\\lib\\site-packages\\sklearn\\metrics\\classification.py:1135: UndefinedMetricWarning: Precision and F-score are ill-defined and being set to 0.0 in labels with no predicted samples.\n",
      "  'precision', 'predicted', average, warn_for)\n"
     ]
    },
    {
     "name": "stdout",
     "output_type": "stream",
     "text": [
      "             precision    recall  f1-score   support\n",
      "\n",
      "   Brisbane       0.00      0.00      0.00      9329\n",
      "  Melbourne       0.25      1.00      0.40      9329\n",
      "      Perth       0.97      0.05      0.10      9329\n",
      "     Sydney       0.00      0.00      0.00      9329\n",
      "\n",
      "avg / total       0.31      0.26      0.13     37316\n",
      "\n",
      "One_R test acc: 0.26246114267338405 time: 0.3988833427429199\n",
      "             precision    recall  f1-score   support\n",
      "\n",
      "   Brisbane       0.50      0.09      0.16      9329\n",
      "  Melbourne       0.63      0.09      0.16      9329\n",
      "      Perth       0.71      0.09      0.16      9329\n",
      "     Sydney       0.27      0.94      0.41      9329\n",
      "\n",
      "avg / total       0.53      0.30      0.22     37316\n",
      "\n",
      "RandomF test acc: 0.30413227569943185 time: 28.08690309524536\n"
     ]
    },
    {
     "name": "stderr",
     "output_type": "stream",
     "text": [
      "C:\\Users\\Roywr\\Anaconda3\\lib\\site-packages\\sklearn\\linear_model\\sag.py:326: ConvergenceWarning: The max_iter was reached which means the coef_ did not converge\n",
      "  \"the coef_ did not converge\", ConvergenceWarning)\n"
     ]
    },
    {
     "name": "stdout",
     "output_type": "stream",
     "text": [
      "             precision    recall  f1-score   support\n",
      "\n",
      "   Brisbane       0.27      0.90      0.41      9329\n",
      "  Melbourne       0.60      0.10      0.17      9329\n",
      "      Perth       0.69      0.09      0.16      9329\n",
      "     Sydney       0.44      0.14      0.22      9329\n",
      "\n",
      "avg / total       0.50      0.31      0.24     37316\n",
      "\n",
      "LogisticRe test acc: 0.3076428341730089 time: 52.69369292259216\n",
      "             precision    recall  f1-score   support\n",
      "\n",
      "   Brisbane       0.52      0.09      0.15      9329\n",
      "  Melbourne       0.61      0.10      0.17      9329\n",
      "      Perth       0.69      0.09      0.16      9329\n",
      "     Sydney       0.27      0.94      0.41      9329\n",
      "\n",
      "avg / total       0.52      0.30      0.22     37316\n",
      "\n",
      "SVM.LinearSVC test acc: 0.3039178904491371 time: 14.965989112854004\n",
      "-----ADABoosting-----\n",
      "ADAboosting with bdt_real test score:  0.30598134848322434\n",
      "             precision    recall  f1-score   support\n",
      "\n",
      "   Brisbane       0.51      0.09      0.16      9329\n",
      "  Melbourne       0.70      0.09      0.16      9329\n",
      "      Perth       0.72      0.10      0.17      9329\n",
      "     Sydney       0.27      0.94      0.41      9329\n",
      "\n",
      "avg / total       0.55      0.31      0.23     37316\n",
      "\n"
     ]
    },
    {
     "name": "stderr",
     "output_type": "stream",
     "text": [
      "C:\\Users\\Roywr\\Anaconda3\\lib\\site-packages\\sklearn\\linear_model\\sag.py:326: ConvergenceWarning: The max_iter was reached which means the coef_ did not converge\n",
      "  \"the coef_ did not converge\", ConvergenceWarning)\n"
     ]
    },
    {
     "name": "stdout",
     "output_type": "stream",
     "text": [
      "-----Stacking-----\n",
      "stacker test acc: 0.3078572194233037\n",
      "             precision    recall  f1-score   support\n",
      "\n",
      "   Brisbane       0.27      0.91      0.41      9329\n",
      "  Melbourne       0.63      0.09      0.16      9329\n",
      "      Perth       0.72      0.09      0.16      9329\n",
      "     Sydney       0.44      0.14      0.22      9329\n",
      "\n",
      "avg / total       0.52      0.31      0.24     37316\n",
      "\n",
      "time:  81.02226281166077\n",
      "Devset\n",
      "Proportion of randomness in dataset: 0.8026583771036553\n",
      "Preprocess: reducing randomness in trainset and devset-----------------------------\n"
     ]
    },
    {
     "name": "stderr",
     "output_type": "stream",
     "text": [
      "C:\\Users\\Roywr\\Anaconda3\\lib\\site-packages\\sklearn\\metrics\\classification.py:1135: UndefinedMetricWarning: Precision and F-score are ill-defined and being set to 0.0 in labels with no predicted samples.\n",
      "  'precision', 'predicted', average, warn_for)\n"
     ]
    },
    {
     "name": "stdout",
     "output_type": "stream",
     "text": [
      "             precision    recall  f1-score   support\n",
      "\n",
      "   Brisbane       0.00      0.00      0.00      7815\n",
      "  Melbourne       0.25      1.00      0.40      7823\n",
      "      Perth       0.97      0.06      0.11      7847\n",
      "     Sydney       0.00      0.00      0.00      7843\n",
      "\n",
      "avg / total       0.31      0.26      0.13     31328\n",
      "\n",
      "One_R test acc: 0.26455566905005107 time: 0.30719828605651855\n",
      "             precision    recall  f1-score   support\n",
      "\n",
      "   Brisbane       0.27      0.89      0.41      7815\n",
      "  Melbourne       0.62      0.11      0.19      7823\n",
      "      Perth       0.70      0.11      0.18      7847\n",
      "     Sydney       0.44      0.17      0.25      7843\n",
      "\n",
      "avg / total       0.51      0.32      0.26     31328\n",
      "\n",
      "RandomF test acc: 0.3177987742594484 time: 28.003047466278076\n"
     ]
    },
    {
     "name": "stderr",
     "output_type": "stream",
     "text": [
      "C:\\Users\\Roywr\\Anaconda3\\lib\\site-packages\\sklearn\\linear_model\\sag.py:326: ConvergenceWarning: The max_iter was reached which means the coef_ did not converge\n",
      "  \"the coef_ did not converge\", ConvergenceWarning)\n"
     ]
    },
    {
     "name": "stdout",
     "output_type": "stream",
     "text": [
      "             precision    recall  f1-score   support\n",
      "\n",
      "   Brisbane       0.27      0.88      0.41      7815\n",
      "  Melbourne       0.60      0.12      0.19      7823\n",
      "      Perth       0.69      0.10      0.18      7847\n",
      "     Sydney       0.44      0.17      0.25      7843\n",
      "\n",
      "avg / total       0.50      0.32      0.26     31328\n",
      "\n",
      "LogisticRe test acc: 0.3181179775280899 time: 50.37595534324646\n",
      "             precision    recall  f1-score   support\n",
      "\n",
      "   Brisbane       0.52      0.11      0.18      7815\n",
      "  Melbourne       0.61      0.12      0.19      7823\n",
      "      Perth       0.69      0.10      0.18      7847\n",
      "     Sydney       0.27      0.93      0.42      7843\n",
      "\n",
      "avg / total       0.52      0.31      0.24     31328\n",
      "\n",
      "SVM.LinearSVC test acc: 0.31457482124616953 time: 15.450696468353271\n",
      "-----ADABoosting-----\n",
      "ADAboosting with bdt_real test score:  0.31380873340143\n",
      "             precision    recall  f1-score   support\n",
      "\n",
      "   Brisbane       0.50      0.11      0.18      7815\n",
      "  Melbourne       0.63      0.11      0.18      7823\n",
      "      Perth       0.70      0.10      0.18      7847\n",
      "     Sydney       0.27      0.93      0.42      7843\n",
      "\n",
      "avg / total       0.53      0.31      0.24     31328\n",
      "\n"
     ]
    },
    {
     "name": "stderr",
     "output_type": "stream",
     "text": [
      "C:\\Users\\Roywr\\Anaconda3\\lib\\site-packages\\sklearn\\linear_model\\sag.py:326: ConvergenceWarning: The max_iter was reached which means the coef_ did not converge\n",
      "  \"the coef_ did not converge\", ConvergenceWarning)\n"
     ]
    },
    {
     "name": "stdout",
     "output_type": "stream",
     "text": [
      "-----Stacking-----\n",
      "stacker test acc: 0.31821373850868234\n",
      "             precision    recall  f1-score   support\n",
      "\n",
      "   Brisbane       0.27      0.89      0.41      7815\n",
      "  Melbourne       0.63      0.11      0.19      7823\n",
      "      Perth       0.72      0.10      0.18      7847\n",
      "     Sydney       0.44      0.17      0.24      7843\n",
      "\n",
      "avg / total       0.52      0.32      0.26     31328\n",
      "\n",
      "time:  80.47098588943481\n"
     ]
    },
    {
     "data": {
      "text/plain": [
       "0"
      ]
     },
     "execution_count": 18,
     "metadata": {},
     "output_type": "execute_result"
    }
   ],
   "source": [
    "main(train10,dev10,test10)"
   ]
  },
  {
   "cell_type": "code",
   "execution_count": 17,
   "metadata": {},
   "outputs": [
    {
     "name": "stdout",
     "output_type": "stream",
     "text": [
      "Proportion of randomness in dataset: 0.7728416082968925\n"
     ]
    }
   ],
   "source": [
    "from sklearn.model_selection import learning_curve\n",
    "from sklearn.svm import LinearSVC\n",
    "ntrain = preprocess1(train10)\n",
    "\n",
    "x = train10.iloc[:,1:-1]\n",
    "y= train10.iloc[:,-1]\n",
    "x1 = ntrain.iloc[:,1:-1]\n",
    "y1= ntrain.iloc[:,-1]"
   ]
  },
  {
   "cell_type": "code",
   "execution_count": 7,
   "metadata": {},
   "outputs": [],
   "source": [
    "estimator=LinearSVC()\n",
    "train_sizes=[0.1,0.2,0.4,0.6,0.7,0.8]\n",
    "train_size,train_scores,test_scores=learning_curve(estimator,x,y,cv=10,train_sizes=[0.1,0.2,0.4,0.6,0.7,0.8],shuffle=True)\n",
    "new_train_scores=train_scores.mean(1)\n",
    "train_std=train_scores.std()\n",
    "test_std=test_scores.std()\n",
    "new_test_scores=test_scores.mean(1)"
   ]
  },
  {
   "cell_type": "code",
   "execution_count": 8,
   "metadata": {
    "scrolled": false
   },
   "outputs": [
    {
     "data": {
      "image/png": "[encoded data removed]",
      "text/plain": [
       "<Figure size 432x288 with 1 Axes>"
      ]
     },
     "metadata": {},
     "output_type": "display_data"
    }
   ],
   "source": [
    "plt.grid()\n",
    "plt.fill_between(train_sizes,new_train_scores-train_std,\n",
    "                 new_train_scores+train_std,color='r',alpha=0.1)\n",
    "plt.fill_between(train_sizes,new_test_scores-test_std,\n",
    "                 new_test_scores+test_std,color='g',alpha=0.1)\n",
    " \n",
    "plt.plot(train_sizes,new_train_scores,'*-',c='r',label='train score')\n",
    "plt.plot(train_sizes,new_test_scores,'*-',c='g',label='test score')\n",
    "plt.title(\"LinearSVC(NO PREPROCESSING)\")\n",
    "plt.legend(loc='best')\n",
    "plt.show()\n"
   ]
  },
  {
   "cell_type": "code",
   "execution_count": 9,
   "metadata": {},
   "outputs": [],
   "source": [
    "train_sizes = [0.2,0.4,0.6,0.7,0.8,0.9]\n",
    "train_size,train_scores,test_scores=learning_curve(estimator,x1,y1,cv=10,train_sizes=[0.2,0.4,0.6,0.7,0.8,0.9],shuffle=True)\n",
    "new_train_scores=train_scores.mean(1)\n",
    "train_std=train_scores.std()\n",
    "test_std=test_scores.std()\n",
    "new_test_scores=test_scores.mean(1)\n"
   ]
  },
  {
   "cell_type": "code",
   "execution_count": 10,
   "metadata": {
    "scrolled": true
   },
   "outputs": [
    {
     "data": {
      "image/png": "[encoded data removed]",
      "text/plain": [
       "<Figure size 432x288 with 1 Axes>"
      ]
     },
     "metadata": {},
     "output_type": "display_data"
    }
   ],
   "source": [
    "plt.grid()\n",
    "plt.fill_between(train_sizes,new_train_scores-train_std,\n",
    "                 new_train_scores+train_std,color='r',alpha=0.1)\n",
    "plt.fill_between(train_sizes,new_test_scores-test_std,\n",
    "                 new_test_scores+test_std,color='g',alpha=0.1)\n",
    " \n",
    "plt.plot(train_sizes,new_train_scores,'*-',c='r',label='train score')\n",
    "plt.plot(train_sizes,new_test_scores,'*-',c='g',label='test score')\n",
    "plt.title(\"LinearSVC(PREPROCESSING)\")\n",
    "plt.legend(loc='best')\n",
    "plt.show()\n"
   ]
  },
  {
   "cell_type": "markdown",
   "metadata": {},
   "source": [
    "# plot rf"
   ]
  },
  {
   "cell_type": "code",
   "execution_count": 14,
   "metadata": {},
   "outputs": [],
   "source": [
    "estimator=RandomForestClassifier(n_estimators=200,max_depth=None,random_state=42, n_jobs=-1)"
   ]
  },
  {
   "cell_type": "code",
   "execution_count": 15,
   "metadata": {},
   "outputs": [
    {
     "data": {
      "image/png": "[encoded data removed]",
      "text/plain": [
       "<Figure size 432x288 with 1 Axes>"
      ]
     },
     "metadata": {},
     "output_type": "display_data"
    }
   ],
   "source": [
    "train_sizes = [0.1,0.2,0.4,0.6,0.7,0.8]\n",
    "train_size,train_scores,test_scores=learning_curve(estimator,x,y,cv=3,train_sizes=[0.1,0.2,0.4,0.6,0.7,0.8],shuffle=True)\n",
    "new_train_scores=train_scores.mean(1)\n",
    "train_std=train_scores.std()\n",
    "test_std=test_scores.std()\n",
    "new_test_scores=test_scores.mean(1)\n",
    "plt.grid()\n",
    "plt.fill_between(train_sizes,new_train_scores-train_std,\n",
    "                 new_train_scores+train_std,color='r',alpha=0.1)\n",
    "plt.fill_between(train_sizes,new_test_scores-test_std,\n",
    "                 new_test_scores+test_std,color='g',alpha=0.1)\n",
    " \n",
    "plt.plot(train_sizes,new_train_scores,'*-',c='r',label='train score')\n",
    "plt.plot(train_sizes,new_test_scores,'*-',c='g',label='test score')\n",
    "plt.title(\"RandomForest(NO PREPROCESSING)\")\n",
    "plt.legend(loc='best')\n",
    "plt.show()\n"
   ]
  },
  {
   "cell_type": "code",
   "execution_count": 16,
   "metadata": {},
   "outputs": [
    {
     "data": {
      "image/png": "[encoded data removed]",
      "text/plain": [
       "<Figure size 432x288 with 1 Axes>"
      ]
     },
     "metadata": {},
     "output_type": "display_data"
    }
   ],
   "source": [
    "###preprocess\n",
    "train_size,train_scores,test_scores=learning_curve(estimator,x1,y1,cv=3,train_sizes=[0.1,0.2,0.4,0.6,0.7,0.8],shuffle=True)\n",
    "new_train_scores=train_scores.mean(1)\n",
    "train_std=train_scores.std()\n",
    "test_std=test_scores.std()\n",
    "new_test_scores=test_scores.mean(1)\n",
    "plt.grid()\n",
    "plt.fill_between(train_sizes,new_train_scores-train_std,\n",
    "                 new_train_scores+train_std,color='r',alpha=0.1)\n",
    "plt.fill_between(train_sizes,new_test_scores-test_std,\n",
    "                 new_test_scores+test_std,color='g',alpha=0.1)\n",
    " \n",
    "plt.plot(train_sizes,new_train_scores,'*-',c='r',label='train score')\n",
    "plt.plot(train_sizes,new_test_scores,'*-',c='g',label='test score')\n",
    "plt.title(\"RandomForest(PREPROCESSING)\")\n",
    "plt.legend(loc='best')\n",
    "plt.show()\n"
   ]
  },
  {
   "cell_type": "markdown",
   "metadata": {},
   "source": [
    "# plot adaboost\n"
   ]
  },
  {
   "cell_type": "code",
   "execution_count": 17,
   "metadata": {},
   "outputs": [],
   "source": [
    "estimator= AdaBoostClassifier(DecisionTreeClassifier(max_depth=math.sqrt(x.shape[0])),n_estimators=600,learning_rate=1)"
   ]
  },
  {
   "cell_type": "code",
   "execution_count": 19,
   "metadata": {},
   "outputs": [
    {
     "data": {
      "image/png": "[encoded data removed]",
      "text/plain": [
       "<Figure size 432x288 with 1 Axes>"
      ]
     },
     "metadata": {},
     "output_type": "display_data"
    }
   ],
   "source": [
    "train_sizes = [0.1,0.2,0.4,0.6,0.7,0.8]\n",
    "train_size,train_scores,test_scores=learning_curve(estimator,x,y,cv=3,train_sizes=[0.1,0.2,0.4,0.6,0.7,0.8],shuffle=True)\n",
    "new_train_scores=train_scores.mean(1)\n",
    "train_std=train_scores.std()\n",
    "test_std=test_scores.std()\n",
    "new_test_scores=test_scores.mean(1)\n",
    "plt.grid()\n",
    "plt.fill_between(train_sizes,new_train_scores-train_std,\n",
    "                 new_train_scores+train_std,color='r',alpha=0.1)\n",
    "plt.fill_between(train_sizes,new_test_scores-test_std,\n",
    "                 new_test_scores+test_std,color='g',alpha=0.1)\n",
    " \n",
    "plt.plot(train_sizes,new_train_scores,'*-',c='r',label='train score')\n",
    "plt.plot(train_sizes,new_test_scores,'*-',c='g',label='test score')\n",
    "plt.title(\"ADABoosting(NO PREPROCESSING)\")\n",
    "plt.legend(loc='best')\n",
    "plt.show()\n",
    "\n"
   ]
  },
  {
   "cell_type": "code",
   "execution_count": 20,
   "metadata": {},
   "outputs": [
    {
     "data": {
      "image/png": "[encoded data removed]",
      "text/plain": [
       "<Figure size 432x288 with 1 Axes>"
      ]
     },
     "metadata": {},
     "output_type": "display_data"
    }
   ],
   "source": [
    "\n",
    "train_size,train_scores,test_scores=learning_curve(estimator,x1,y1,cv=3,train_sizes=[0.1,0.2,0.4,0.6,0.7,0.8],shuffle=True)\n",
    "new_train_scores=train_scores.mean(1)\n",
    "train_std=train_scores.std()\n",
    "test_std=test_scores.std()\n",
    "new_test_scores=test_scores.mean(1)\n",
    "plt.grid()\n",
    "plt.fill_between(train_sizes,new_train_scores-train_std,\n",
    "                 new_train_scores+train_std,color='r',alpha=0.1)\n",
    "plt.fill_between(train_sizes,new_test_scores-test_std,\n",
    "                 new_test_scores+test_std,color='g',alpha=0.1)\n",
    " \n",
    "plt.plot(train_sizes,new_train_scores,'*-',c='r',label='train score')\n",
    "plt.plot(train_sizes,new_test_scores,'*-',c='g',label='test score')\n",
    "plt.title(\"ADABoosting(PREPROCESSING)\")\n",
    "plt.legend(loc='best')\n",
    "plt.show()\n"
   ]
  },
  {
   "cell_type": "markdown",
   "metadata": {},
   "source": [
    "# plot stacking\n"
   ]
  },
  {
   "cell_type": "raw",
   "metadata": {},
   "source": [
    "classifiers = [RandomForestClassifier(n_estimators=200,max_depth=None,random_state=42, n_jobs=-1),\n",
    "                   LogisticRegression(n_jobs=-1, multi_class='multinomial',solver='sag',random_state= 42),\n",
    "                   #MultinomialNB(alpha=1.0e-10),\n",
    "                   #BernoulliNB(alpha=1.0e-10),\n",
    "                   GaussianNB()\n",
    "                  ]\n",
    "\n",
    "meta_classifier = DecisionTreeClassifier(max_depth = None)\n",
    "stacker = StackingClassifier(classifiers, meta_classifier)\n",
    "estimator= stacker"
   ]
  },
  {
   "cell_type": "raw",
   "metadata": {},
   "source": [
    "train_size = [0.1,0.2,0.4,0.6,0.7,0.8]\n",
    "train_size,train_scores,test_scores=learning_curve(estimator,x,y,cv=3,train_sizes=[0.1,0.2,0.4,0.6,0.7,0.8],shuffle=True)\n",
    "new_train_scores=train_scores.mean(1)\n",
    "train_std=train_scores.std()\n",
    "test_std=test_scores.std()\n",
    "new_test_scores=test_scores.mean(1)\n",
    "plt.grid()\n",
    "plt.fill_between(train_sizes,new_train_scores-train_std,\n",
    "                 new_train_scores+train_std,color='r',alpha=0.1)\n",
    "plt.fill_between(train_sizes,new_test_scores-test_std,\n",
    "                 new_test_scores+test_std,color='g',alpha=0.1)\n",
    " \n",
    "plt.plot(train_sizes,new_train_scores,'*-',c='r',label='train score')\n",
    "plt.plot(train_sizes,new_test_scores,'*-',c='g',label='test score')\n",
    "plt.title(\"Stacking(NO PREPROCESSING)\")\n",
    "plt.legend(loc='best')\n",
    "plt.show()\n"
   ]
  },
  {
   "cell_type": "raw",
   "metadata": {},
   "source": [
    "train_size = [0.1,0.2,0.4,0.6,0.7,0.8]\n",
    "train_size,train_scores,test_scores=learning_curve(estimator,x1,y1,cv=3,train_sizes=[0.1,0.2,0.4,0.6,0.7,0.8],shuffle=True)\n",
    "new_train_scores=train_scores.mean(1)\n",
    "train_std=train_scores.std()\n",
    "test_std=test_scores.std()\n",
    "new_test_scores=test_scores.mean(1)\n",
    "plt.grid()\n",
    "plt.fill_between(train_sizes,new_train_scores-train_std,\n",
    "                 new_train_scores+train_std,color='r',alpha=0.1)\n",
    "plt.fill_between(train_sizes,new_test_scores-test_std,\n",
    "                 new_test_scores+test_std,color='g',alpha=0.1)\n",
    " \n",
    "plt.plot(train_sizes,new_train_scores,'*-',c='r',label='train score')\n",
    "plt.plot(train_sizes,new_test_scores,'*-',c='g',label='test score')\n",
    "plt.title(\"Stacking(PREPROCESSING)\")\n",
    "plt.legend(loc='best')\n",
    "plt.show()"
   ]
  },
  {
   "cell_type": "markdown",
   "metadata": {},
   "source": [
    "# handle the raw data"
   ]
  },
  {
   "cell_type": "code",
   "execution_count": 18,
   "metadata": {},
   "outputs": [],
   "source": [
    "test_raw = pd.read_csv(\"./2019S1-proj2-data_dos/test-raw.tsv\",sep='\\\\t',header=None,engine='python')\n",
    "test_raw=test_raw.rename(columns={0:'Instance_ID',1:'Location',2:'Text'})\n",
    "#test_raw['Text']"
   ]
  },
  {
   "cell_type": "code",
   "execution_count": 19,
   "metadata": {},
   "outputs": [],
   "source": [
    "#output=test_raw.copy()\n",
    "#output['Location']=label"
   ]
  },
  {
   "cell_type": "code",
   "execution_count": 20,
   "metadata": {},
   "outputs": [],
   "source": [
    "train_raw = pd.read_csv(\"./2019S1-proj2-data_dos/train-raw.tsv\",sep='\\\\t',header=None,engine='python')\n",
    "dev_raw = pd.read_csv(\"./2019S1-proj2-data_dos/dev-raw.tsv\",sep='\\\\t',header=None,engine='python')\n",
    "train_raw=train_raw.rename(columns={0:'Instance_ID',1:'Location',2:'Text'})\n",
    "dev_raw=dev_raw.rename(columns={0:'Instance_ID',1:'Location',2:'Text'})"
   ]
  },
  {
   "cell_type": "code",
   "execution_count": 21,
   "metadata": {},
   "outputs": [],
   "source": [
    "from sklearn.feature_extraction.text import CountVectorizer, TfidfVectorizer,TfidfTransformer\n",
    "from sklearn.linear_model import LogisticRegression, SGDClassifier\n",
    "from sklearn.externals import joblib\n",
    "#tv = TfidfVectorizer(sublinear_tf=True)\n",
    "#rcf = SGDClassifier(random_state=41, max_iter=1000, tol=None, n_jobs=-1)"
   ]
  },
  {
   "cell_type": "code",
   "execution_count": 22,
   "metadata": {},
   "outputs": [],
   "source": [
    "corpus_train = train_raw['Text']\n",
    "corpus_dev = dev_raw['Text']\n",
    "corpus_test = test_raw['Text']\n",
    "\n",
    "#tfid  = tv.fit_transform(corpus_train)\n",
    "#vct = CountVectorizer(vocabulary = None ,max_features=5000,ngram_range=(1,2))\n",
    "#X_train = vct.fit_transform(corpus_train)\n",
    "#y_train = train_raw['Location']\n",
    "#tttt= vct.fit_transform(corpus_train)"
   ]
  },
  {
   "cell_type": "code",
   "execution_count": 23,
   "metadata": {},
   "outputs": [],
   "source": [
    "#corpus_train\n"
   ]
  },
  {
   "cell_type": "raw",
   "metadata": {},
   "source": [
    "X_train = tv.fit_transform(corpus_train)\n",
    "y_train = train_raw['Location']\n",
    "X_dev = tv.fit(corpus_dev)\n",
    "y_dev = dev_raw['Location']"
   ]
  },
  {
   "cell_type": "code",
   "execution_count": 24,
   "metadata": {},
   "outputs": [],
   "source": [
    "vectorizer = CountVectorizer()\n",
    "count = vectorizer.fit_transform(corpus_train)  \n",
    "transformer = TfidfTransformer()\n",
    "tfidf = transformer.fit_transform(count) "
   ]
  },
  {
   "cell_type": "code",
   "execution_count": 25,
   "metadata": {},
   "outputs": [],
   "source": [
    "X_train=tfidf\n",
    "y_train = train_raw['Location']\n",
    "count_d = vectorizer.transform(corpus_dev)\n",
    "tfidf_d = transformer.transform(count_d)\n",
    "X_dev = tfidf_d\n",
    "y_dev= dev_raw[\"Location\"]"
   ]
  },
  {
   "cell_type": "code",
   "execution_count": 34,
   "metadata": {},
   "outputs": [
    {
     "data": {
      "text/plain": [
       "0.3460177939757745"
      ]
     },
     "execution_count": 34,
     "metadata": {},
     "output_type": "execute_result"
    }
   ],
   "source": [
    "rcf = SGDClassifier(random_state=41, max_iter=500, tol=None, n_jobs=-1)\n",
    "\n",
    "rcf.fit(X_train,y_train)\n",
    "rcf.score(X_dev,y_dev)"
   ]
  },
  {
   "cell_type": "code",
   "execution_count": 35,
   "metadata": {},
   "outputs": [
    {
     "data": {
      "text/plain": [
       "0.26246114267338405"
      ]
     },
     "execution_count": 35,
     "metadata": {},
     "output_type": "execute_result"
    }
   ],
   "source": [
    "clf = DecisionTreeClassifier(max_depth=1).fit(X_train, y_train)  #int(math.sqrt(train10.shape[0]))\n",
    "clf.score(X_dev,y_dev)"
   ]
  },
  {
   "cell_type": "code",
   "execution_count": 36,
   "metadata": {},
   "outputs": [
    {
     "data": {
      "text/plain": [
       "0.3352985314610355"
      ]
     },
     "execution_count": 36,
     "metadata": {},
     "output_type": "execute_result"
    }
   ],
   "source": [
    "lr =LogisticRegression()\n",
    "lr.fit(X_train,y_train)\n",
    "lr.score(X_dev,y_dev)"
   ]
  },
  {
   "cell_type": "code",
   "execution_count": 37,
   "metadata": {},
   "outputs": [
    {
     "data": {
      "text/plain": [
       "0.2988798370672098"
      ]
     },
     "execution_count": 37,
     "metadata": {},
     "output_type": "execute_result"
    }
   ],
   "source": [
    "clf = DecisionTreeClassifier(max_depth=int(math.sqrt(train10.shape[0]))).fit(X_train, y_train)  \n",
    "clf.score(X_dev,y_dev)"
   ]
  },
  {
   "cell_type": "code",
   "execution_count": null,
   "metadata": {},
   "outputs": [],
   "source": [
    "rfc = RandomForestClassifier(n_estimators=int(math.sqrt(train10.shape[0])),max_depth=100)\n",
    "rfc.fit(X_train,y_train)\n",
    "rfc.score(X_dev,y_dev)"
   ]
  },
  {
   "cell_type": "code",
   "execution_count": null,
   "metadata": {},
   "outputs": [],
   "source": [
    "def stacking_raw(x_train,y_train,x_test,y_test):\n",
    "    classifiers = [ExtraTreesClassifier(n_jobs=-1, n_estimators=5, criterion=\"entropy\"),\n",
    "                   LogisticRegression(n_jobs=-1,random_state= 42),\n",
    "                   SGDClassifier(random_state=41, max_iter=500, tol=None, n_jobs=-1)\n",
    "                   ]\n",
    "\n",
    "    meta_classifier = DecisionTreeClassifier(max_depth = None)\n",
    "    stacker = StackingClassifier(classifiers, meta_classifier)\n",
    "    classes = sorted(list(set(y_train)))\n",
    "\n",
    "    start = time.time()\n",
    "    stacker.fit(x_train, y_train)\n",
    "    end = time.time()\n",
    "    \n",
    "    \n",
    "    #print('stacker train acc:', stacker.score(x_train, y_train))\n",
    "    \n",
    "    print('stacker test acc:', stacker.score(x_test, y_test))\n",
    "    labels = stacker.predict(x_test)\n",
    "    print(classification_report(y_test, labels,labels= classes,target_names = classes))\n",
    "    print(\"time: \", end - start)\n",
    "\n",
    "    return 0"
   ]
  },
  {
   "cell_type": "code",
   "execution_count": null,
   "metadata": {},
   "outputs": [],
   "source": [
    "stacking_raw(X_train,y_train,X_dev,y_dev)"
   ]
  },
  {
   "cell_type": "code",
   "execution_count": null,
   "metadata": {},
   "outputs": [],
   "source": [
    "adaboosting(X_train, y_train, X_dev, y_dev)"
   ]
  },
  {
   "cell_type": "code",
   "execution_count": null,
   "metadata": {},
   "outputs": [],
   "source": []
  },
  {
   "cell_type": "code",
   "execution_count": null,
   "metadata": {},
   "outputs": [],
   "source": [
    "\n",
    "\n",
    "\n"
   ]
  }
 ],
 "metadata": {
  "kernelspec": {
   "display_name": "Python 3",
   "language": "python",
   "name": "python3"
  },
  "language_info": {
   "codemirror_mode": {
    "name": "ipython",
    "version": 3
   },
   "file_extension": ".py",
   "mimetype": "text/x-python",
   "name": "python",
   "nbconvert_exporter": "python",
   "pygments_lexer": "ipython3",
   "version": "3.6.5"
  }
 },
 "nbformat": 4,
 "nbformat_minor": 2
}
