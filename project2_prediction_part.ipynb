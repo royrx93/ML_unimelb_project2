{
 "cells": [
  {
   "cell_type": "code",
   "execution_count": 1,
   "metadata": {},
   "outputs": [],
   "source": [
    "import pandas as pd\n",
    "import numpy as np\n",
    "import time\n",
    "import math\n",
    "import re\n",
    "\n",
    "from collections import defaultdict\n",
    "from sklearn import svm, datasets\n",
    "from sklearn.tree import DecisionTreeClassifier\n",
    "from sklearn.ensemble import ExtraTreesClassifier\n",
    "from sklearn.dummy import DummyClassifier\n",
    "from sklearn.neighbors import KNeighborsClassifier\n",
    "from sklearn.linear_model import LogisticRegression\n",
    "from sklearn.naive_bayes import GaussianNB, MultinomialNB, BernoulliNB\n",
    "from sklearn.model_selection import cross_val_score,train_test_split\n",
    "from sklearn.feature_selection import mutual_info_classif\n",
    "from sklearn.feature_selection import SelectKBest, chi2\n",
    "from sklearn.metrics import accuracy_score\n",
    "\n",
    "from sklearn.feature_extraction.text import CountVectorizer, TfidfVectorizer,TfidfTransformer\n",
    "from sklearn.linear_model import LogisticRegression, SGDClassifier\n",
    "from sklearn.externals import joblib\n",
    "\n"
   ]
  },
  {
   "cell_type": "code",
   "execution_count": 2,
   "metadata": {},
   "outputs": [],
   "source": [
    "dev10 = pd.read_csv('./2019S1-proj2-datah_dos/dev-top100.csv')\n",
    "train10 = pd.read_csv('./2019S1-proj2-datah_dos/train-top100.csv')\n",
    "test10 = pd.read_csv('./2019S1-proj2-datah_dos/test-top100.csv')"
   ]
  },
  {
   "cell_type": "code",
   "execution_count": 3,
   "metadata": {},
   "outputs": [],
   "source": [
    "test_raw = pd.read_csv(\"./2019S1-proj2-data_dos/test-raw.tsv\",sep='\\\\t',header=None,engine='python')\n",
    "test_raw=test_raw.rename(columns={0:'Instance_ID',1:'Location',2:'Text'})"
   ]
  },
  {
   "cell_type": "code",
   "execution_count": 4,
   "metadata": {},
   "outputs": [],
   "source": [
    "train_raw = pd.read_csv(\"./2019S1-proj2-data_dos/train-raw.tsv\",sep='\\\\t',header=None,engine='python')\n",
    "dev_raw = pd.read_csv(\"./2019S1-proj2-data_dos/dev-raw.tsv\",sep='\\\\t',header=None,engine='python')\n",
    "train_raw=train_raw.rename(columns={0:'Instance_ID',1:'Location',2:'Text'})\n",
    "dev_raw=dev_raw.rename(columns={0:'Instance_ID',1:'Location',2:'Text'})"
   ]
  },
  {
   "cell_type": "code",
   "execution_count": 5,
   "metadata": {},
   "outputs": [],
   "source": [
    "corpus_train = train_raw['Text']\n",
    "corpus_dev = dev_raw['Text']\n",
    "corpus_test = test_raw['Text']"
   ]
  },
  {
   "cell_type": "markdown",
   "metadata": {},
   "source": [
    "# countervectorizer and tf-idf"
   ]
  },
  {
   "cell_type": "code",
   "execution_count": 6,
   "metadata": {},
   "outputs": [],
   "source": [
    "vectorizer = CountVectorizer()\n",
    "count = vectorizer.fit_transform(corpus_train)  \n",
    "transformer = TfidfTransformer()\n",
    "tfidf = transformer.fit_transform(count) "
   ]
  },
  {
   "cell_type": "code",
   "execution_count": 7,
   "metadata": {},
   "outputs": [],
   "source": [
    "X_train=tfidf\n",
    "y_train = train_raw['Location']\n",
    "count_d = vectorizer.transform(corpus_dev)\n",
    "tfidf_d = transformer.transform(count_d)\n",
    "X_dev = tfidf_d\n",
    "y_dev= dev_raw[\"Location\"]\n",
    "\n",
    "count_t = vectorizer.transform(corpus_test)\n",
    "tfidf_t = transformer.transform(count_t)\n",
    "X_test = tfidf_t"
   ]
  },
  {
   "cell_type": "code",
   "execution_count": 8,
   "metadata": {},
   "outputs": [
    {
     "data": {
      "text/plain": [
       "0.3460177939757745"
      ]
     },
     "execution_count": 8,
     "metadata": {},
     "output_type": "execute_result"
    }
   ],
   "source": [
    "rcf = SGDClassifier(random_state=41, max_iter=500, tol=None, n_jobs=-1)\n",
    "\n",
    "rcf.fit(X_train,y_train)\n",
    "rcf.score(X_dev,y_dev)"
   ]
  },
  {
   "cell_type": "code",
   "execution_count": 9,
   "metadata": {},
   "outputs": [],
   "source": [
    "label = list(rcf.predict(X_test))"
   ]
  },
  {
   "cell_type": "code",
   "execution_count": 10,
   "metadata": {},
   "outputs": [],
   "source": [
    "output=test_raw.copy()\n",
    "#output['Location']=label\n",
    "output=output.drop(['Text'],axis=1)"
   ]
  },
  {
   "cell_type": "code",
   "execution_count": 11,
   "metadata": {},
   "outputs": [
    {
     "data": {
      "text/plain": [
       "(108148, 2)"
      ]
     },
     "execution_count": 11,
     "metadata": {},
     "output_type": "execute_result"
    }
   ],
   "source": [
    "output.shape\n",
    "#dev_raw=dev_raw.rename(columns={0:'Instance_ID',1:'Location',2:'Text'})"
   ]
  },
  {
   "cell_type": "code",
   "execution_count": 12,
   "metadata": {},
   "outputs": [],
   "source": [
    "o1=output.copy()\n",
    "o1 = o1.rename(columns={'Instance_ID':\"Id\",\"Location\":\"Class\"})\n",
    "o1.to_csv(\"predict_output.csv\",index=False,sep=',')"
   ]
  },
  {
   "cell_type": "markdown",
   "metadata": {},
   "source": [
    "# combine trainset and  devset"
   ]
  },
  {
   "cell_type": "code",
   "execution_count": 13,
   "metadata": {},
   "outputs": [],
   "source": [
    "ntrain = pd.concat([train_raw['Text'],dev_raw['Text']],ignore_index=True)\n",
    "ndev = pd.concat([y_train,y_dev],ignore_index = True)\n",
    "vectorizer2 = CountVectorizer()\n",
    "count2 = vectorizer2.fit_transform(ntrain)\n",
    "transform2 = TfidfTransformer()\n",
    "tfidf2 = transform2.fit_transform(count2)"
   ]
  },
  {
   "cell_type": "code",
   "execution_count": 14,
   "metadata": {},
   "outputs": [],
   "source": [
    "xcount =  vectorizer2.transform(dev_raw[\"Text\"])\n",
    "xdev = transform2.transform(xcount) "
   ]
  },
  {
   "cell_type": "code",
   "execution_count": 15,
   "metadata": {},
   "outputs": [],
   "source": [
    "count3 = vectorizer2.transform(test_raw['Text'])\n",
    "tfidf3 = transform2.transform(count3)\n",
    "X_test = tfidf3"
   ]
  },
  {
   "cell_type": "code",
   "execution_count": 16,
   "metadata": {},
   "outputs": [],
   "source": [
    "rcf2 = SGDClassifier(random_state=41, max_iter=500, tol=None, n_jobs=-1)\n",
    "rcf2.fit(tfidf2,ndev)\n",
    "label2= list(rcf2.predict(X_test))"
   ]
  },
  {
   "cell_type": "code",
   "execution_count": 17,
   "metadata": {},
   "outputs": [
    {
     "data": {
      "text/plain": [
       "0.8580769643048558"
      ]
     },
     "execution_count": 17,
     "metadata": {},
     "output_type": "execute_result"
    }
   ],
   "source": [
    "rcf2.score(xdev,y_dev)"
   ]
  },
  {
   "cell_type": "code",
   "execution_count": 18,
   "metadata": {},
   "outputs": [],
   "source": [
    "o2 = o1.copy()\n",
    "o2['Class'] = label2"
   ]
  },
  {
   "cell_type": "code",
   "execution_count": 19,
   "metadata": {},
   "outputs": [],
   "source": [
    "o2.to_csv(\"predict_output2.csv\",index=False,sep=',')"
   ]
  },
  {
   "cell_type": "markdown",
   "metadata": {},
   "source": [
    "# cross validation"
   ]
  },
  {
   "cell_type": "code",
   "execution_count": 20,
   "metadata": {},
   "outputs": [],
   "source": [
    " from sklearn.model_selection import cross_val_score"
   ]
  },
  {
   "cell_type": "code",
   "execution_count": 23,
   "metadata": {},
   "outputs": [
    {
     "name": "stdout",
     "output_type": "stream",
     "text": [
      "SGD cross-vali\n",
      "cv accuracy:  0.48675717941427354\n",
      "cv stddev:  0.034153378482722395\n"
     ]
    }
   ],
   "source": [
    "scores = cross_val_score(rcf2, tfidf2, ndev, cv=5)\n",
    "print('SGD cross-vali')\n",
    "print(\"cv accuracy: \",  np.mean(scores))\n",
    "print(\"cv stddev: \", np.std(scores))   "
   ]
  },
  {
   "cell_type": "code",
   "execution_count": 24,
   "metadata": {},
   "outputs": [],
   "source": [
    "from sklearn.model_selection import learning_curve\n",
    "from sklearn.svm import LinearSVC"
   ]
  },
  {
   "cell_type": "code",
   "execution_count": 25,
   "metadata": {},
   "outputs": [],
   "source": [
    "x=tfidf2\n",
    "y=ndev\n",
    "estimator=rcf2\n",
    "train_sizes=[0.1,0.2,0.4,0.6,0.7,0.8]"
   ]
  },
  {
   "cell_type": "code",
   "execution_count": 26,
   "metadata": {},
   "outputs": [],
   "source": [
    "train_size,train_scores,test_scores=learning_curve(estimator,x,y,cv=10,train_sizes=[0.1,0.2,0.4,0.6,0.7,0.8],shuffle=True)\n",
    "new_train_scores=train_scores.mean(1)\n",
    "train_std=train_scores.std()\n",
    "test_std=test_scores.std()\n",
    "new_test_scores=test_scores.mean(1)"
   ]
  },
  {
   "cell_type": "code",
   "execution_count": 28,
   "metadata": {},
   "outputs": [],
   "source": [
    "import matplotlib.pyplot as plt"
   ]
  },
  {
   "cell_type": "code",
   "execution_count": 29,
   "metadata": {},
   "outputs": [
    {
     "data": {
      "image/png": "[encoded data removed]",
      "text/plain": [
       "<Figure size 432x288 with 1 Axes>"
      ]
     },
     "metadata": {},
     "output_type": "display_data"
    }
   ],
   "source": [
    "plt.grid()\n",
    "plt.fill_between(train_sizes,new_train_scores-train_std,\n",
    "                 new_train_scores+train_std,color='r',alpha=0.1)\n",
    "plt.fill_between(train_sizes,new_test_scores-test_std,\n",
    "                 new_test_scores+test_std,color='g',alpha=0.1)\n",
    " \n",
    "plt.plot(train_sizes,new_train_scores,'*-',c='r',label='train score')\n",
    "plt.plot(train_sizes,new_test_scores,'*-',c='g',label='test score')\n",
    "plt.title(\"SGD learning curve\")\n",
    "plt.legend(loc='best')\n",
    "plt.show()\n"
   ]
  },
  {
   "cell_type": "code",
   "execution_count": null,
   "metadata": {},
   "outputs": [],
   "source": []
  },
  {
   "cell_type": "markdown",
   "metadata": {},
   "source": [
    "# STEMMING"
   ]
  },
  {
   "cell_type": "raw",
   "metadata": {},
   "source": [
    "from sklearn.feature_extraction.text import CountVectorizer\n",
    "from nltk.stem.snowball import EnglishStemmer\n",
    "\n",
    "stemmer = EnglishStemmer()\n",
    "analyzer = CountVectorizer().build_analyzer()\n",
    "\n",
    "def stemmed_words(doc):\n",
    "    return (stemmer.stem(w) for w in analyzer(doc))\n",
    "\n",
    "stem_vectorizer = CountVectorizer(analyzer=stemmed_words)\n",
    "stem_count = stem_vectorizer.fit_transform(corpus_train)  \n",
    "stem_transformer = TfidfTransformer()\n",
    "stem_tfidf = stem_transformer.fit_transform(stem_count) \n"
   ]
  },
  {
   "cell_type": "raw",
   "metadata": {},
   "source": [
    "X_train=stem_tfidf\n",
    "y_train = train_raw['Location']\n",
    "stem_count_d = stem_vectorizer.transform(corpus_dev)\n",
    "stem_tfidf_d = stem_transformer.transform(stem_count_d)\n",
    "X_dev = stem_tfidf_d\n",
    "y_dev= dev_raw[\"Location\"]\n",
    "\n",
    "stem_count_t = stem_vectorizer.transform(corpus_test)\n",
    "stem_tfidf_t = stem_transformer.transform(stem_count_t)\n",
    "X_test = stem_tfidf_t"
   ]
  },
  {
   "cell_type": "raw",
   "metadata": {},
   "source": [
    "rcf = SGDClassifier(random_state=41, max_iter=500, tol=None, n_jobs=-1)\n",
    "\n",
    "rcf.fit(X_train,y_train)\n",
    "rcf.score(X_dev,y_dev)"
   ]
  },
  {
   "cell_type": "markdown",
   "metadata": {},
   "source": [
    "# # stem combine"
   ]
  },
  {
   "cell_type": "raw",
   "metadata": {},
   "source": [
    "ntrain = pd.concat([train_raw['Text'],dev_raw['Text']],ignore_index=True)\n",
    "ndev = pd.concat([y_train,y_dev],ignore_index = True)"
   ]
  },
  {
   "cell_type": "raw",
   "metadata": {},
   "source": [
    "stem_vectorizer2 = CountVectorizer(analyzer=stemmed_words)\n",
    "stem_count2 = stem_vectorizer2.fit_transform(ntrain)  \n",
    "stem_transformer2 = TfidfTransformer()\n",
    "stem_tfidf2 = stem_transformer2.fit_transform(stem_count2) \n",
    "X_train = stem_tfidf2\n",
    "y_train  = ndev"
   ]
  },
  {
   "cell_type": "raw",
   "metadata": {},
   "source": [
    "stem_count3 = stem_vectorizer2.transform(test_raw['Text'])\n",
    "stem_tfidf3 = stem_transformer2.transform(stem_count3)\n",
    "X_test = stem_tfidf3"
   ]
  },
  {
   "cell_type": "raw",
   "metadata": {},
   "source": [
    "rcf = SGDClassifier(random_state=41, max_iter=500, tol=None, n_jobs=-1)\n",
    "\n",
    "rcf.fit(X_train,y_train)"
   ]
  },
  {
   "cell_type": "raw",
   "metadata": {},
   "source": [
    "label3 = rcf.predict(X_test)\n",
    "o3 = output.copy()\n",
    "o3=o3.rename(columns={'Instance_ID':\"Id\",\"Location\":\"Class\"})\n",
    "o3['Class'] = label3\n",
    "o3.to_csv(\"predict_output3.csv\",index=False,sep=',')"
   ]
  },
  {
   "cell_type": "code",
   "execution_count": null,
   "metadata": {},
   "outputs": [],
   "source": []
  }
 ],
 "metadata": {
  "kernelspec": {
   "display_name": "Python 3",
   "language": "python",
   "name": "python3"
  },
  "language_info": {
   "codemirror_mode": {
    "name": "ipython",
    "version": 3
   },
   "file_extension": ".py",
   "mimetype": "text/x-python",
   "name": "python",
   "nbconvert_exporter": "python",
   "pygments_lexer": "ipython3",
   "version": "3.6.5"
  }
 },
 "nbformat": 4,
 "nbformat_minor": 2
}
